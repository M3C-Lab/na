{
 "cells": [
  {
   "cell_type": "markdown",
   "metadata": {},
   "source": [
    "# Newton method: absolute and relative tolerance."
   ]
  },
  {
   "cell_type": "markdown",
   "metadata": {},
   "source": [
    "This is the same function as in a previous example, but we have shifted it so that the root lies at a large distance from zero.\n",
    "\n",
    "Consider the function\n",
    "$$\n",
    "f(x) = \\exp(x-x_0) - \\frac{3}{2} - \\arctan(x-x_0)\n",
    "$$\n",
    "where $x_0$ is some large number, e.g., $x_0 = 10^{10}$. The root lies around $x_0$ and due to precision of floating point numbers, we cannot compute it to good absolute tolerance, but only to relative tolerance."
   ]
  },
  {
   "cell_type": "code",
   "execution_count": 28,
   "metadata": {},
   "outputs": [],
   "source": [
    "%config InlineBackend.figure_format = 'svg'\n",
    "from numpy import linspace,abs\n",
    "from matplotlib.pyplot import figure,subplot,plot,grid,title"
   ]
  },
  {
   "cell_type": "markdown",
   "metadata": {},
   "source": [
    "Define function and derivative."
   ]
  },
  {
   "cell_type": "code",
   "execution_count": 29,
   "metadata": {},
   "outputs": [],
   "source": [
    "x0 = 1e10\n",
    "\n",
    "# Define the function\n",
    "F = lambda x: exp(x-x0)-3.0/2.0-atan(x-x0)\n",
    "\n",
    "# Compute its derivative\n",
    "DF = lambda x: exp(x-x0) - 1.0/(1 + (x-x0)**2)"
   ]
  },
  {
   "cell_type": "markdown",
   "metadata": {},
   "source": [
    "Now we implement the Newton method. We have to specify the maximum number of iterations, an initial guess and a tolerance to decide when to stop."
   ]
  },
  {
   "cell_type": "code",
   "execution_count": 30,
   "metadata": {},
   "outputs": [],
   "source": [
    "M   = 50    # maximum iterations\n",
    "eps = 1e-14 # relative tolerance on root"
   ]
  },
  {
   "cell_type": "markdown",
   "metadata": {},
   "source": [
    "## Using relative tolerance on the root"
   ]
  },
  {
   "cell_type": "code",
   "execution_count": 31,
   "metadata": {},
   "outputs": [
    {
     "name": "stdout",
     "output_type": "stream",
     "text": [
      "     0   1.00000000008711e+10   3.71059792151655e-01   1.72847126992936e-01\n",
      "     1   1.00000000007761e+10   9.49264320087584e-02   1.30346281936581e-02\n",
      "     2   1.00000000007677e+10   8.41497025309343e-03   9.77825039385483e-05\n",
      "     3   1.00000000007677e+10   6.40915294389154e-05   1.15114296217467e-06\n"
     ]
    }
   ],
   "source": [
    "x = x0 + 0.5   # initial guess\n",
    "f = F(x)\n",
    "for i in range(M):\n",
    "    df = DF(x)\n",
    "    dx = -f/df\n",
    "    x  = x + dx\n",
    "    e  = abs(dx)\n",
    "    f  = F(x)\n",
    "    print(\"%6d %22.14e %22.14e %22.14e\" % (i,x,e,abs(f)))\n",
    "    if e < eps * abs(x):\n",
    "        break"
   ]
  },
  {
   "cell_type": "markdown",
   "metadata": {},
   "source": [
    "Root converges in relative sense to machine zero in few iterations."
   ]
  },
  {
   "cell_type": "markdown",
   "metadata": {},
   "source": [
    "## Using absolute tolerance on the root"
   ]
  },
  {
   "cell_type": "code",
   "execution_count": 32,
   "metadata": {},
   "outputs": [
    {
     "name": "stdout",
     "output_type": "stream",
     "text": [
      "     0   1.00000000008711e+10   3.71059792151655e-01   1.72847126992936e-01\n",
      "     1   1.00000000007761e+10   9.49264320087584e-02   1.30346281936581e-02\n",
      "     2   1.00000000007677e+10   8.41497025309343e-03   9.77825039385483e-05\n",
      "     3   1.00000000007677e+10   6.40915294389154e-05   1.15114296217467e-06\n",
      "     4   1.00000000007677e+10   7.54605114902618e-07   1.15114296217467e-06\n",
      "     5   1.00000000007677e+10   7.54605114902618e-07   1.15114296217467e-06\n",
      "     6   1.00000000007677e+10   7.54605114902618e-07   1.15114296217467e-06\n",
      "     7   1.00000000007677e+10   7.54605114902618e-07   1.15114296217467e-06\n",
      "     8   1.00000000007677e+10   7.54605114902618e-07   1.15114296217467e-06\n",
      "     9   1.00000000007677e+10   7.54605114902618e-07   1.15114296217467e-06\n",
      "    10   1.00000000007677e+10   7.54605114902618e-07   1.15114296217467e-06\n",
      "    11   1.00000000007677e+10   7.54605114902618e-07   1.15114296217467e-06\n",
      "    12   1.00000000007677e+10   7.54605114902618e-07   1.15114296217467e-06\n",
      "    13   1.00000000007677e+10   7.54605114902618e-07   1.15114296217467e-06\n",
      "    14   1.00000000007677e+10   7.54605114902618e-07   1.15114296217467e-06\n",
      "    15   1.00000000007677e+10   7.54605114902618e-07   1.15114296217467e-06\n",
      "    16   1.00000000007677e+10   7.54605114902618e-07   1.15114296217467e-06\n",
      "    17   1.00000000007677e+10   7.54605114902618e-07   1.15114296217467e-06\n",
      "    18   1.00000000007677e+10   7.54605114902618e-07   1.15114296217467e-06\n",
      "    19   1.00000000007677e+10   7.54605114902618e-07   1.15114296217467e-06\n",
      "    20   1.00000000007677e+10   7.54605114902618e-07   1.15114296217467e-06\n",
      "    21   1.00000000007677e+10   7.54605114902618e-07   1.15114296217467e-06\n",
      "    22   1.00000000007677e+10   7.54605114902618e-07   1.15114296217467e-06\n",
      "    23   1.00000000007677e+10   7.54605114902618e-07   1.15114296217467e-06\n",
      "    24   1.00000000007677e+10   7.54605114902618e-07   1.15114296217467e-06\n",
      "    25   1.00000000007677e+10   7.54605114902618e-07   1.15114296217467e-06\n",
      "    26   1.00000000007677e+10   7.54605114902618e-07   1.15114296217467e-06\n",
      "    27   1.00000000007677e+10   7.54605114902618e-07   1.15114296217467e-06\n",
      "    28   1.00000000007677e+10   7.54605114902618e-07   1.15114296217467e-06\n",
      "    29   1.00000000007677e+10   7.54605114902618e-07   1.15114296217467e-06\n",
      "    30   1.00000000007677e+10   7.54605114902618e-07   1.15114296217467e-06\n",
      "    31   1.00000000007677e+10   7.54605114902618e-07   1.15114296217467e-06\n",
      "    32   1.00000000007677e+10   7.54605114902618e-07   1.15114296217467e-06\n",
      "    33   1.00000000007677e+10   7.54605114902618e-07   1.15114296217467e-06\n",
      "    34   1.00000000007677e+10   7.54605114902618e-07   1.15114296217467e-06\n",
      "    35   1.00000000007677e+10   7.54605114902618e-07   1.15114296217467e-06\n",
      "    36   1.00000000007677e+10   7.54605114902618e-07   1.15114296217467e-06\n",
      "    37   1.00000000007677e+10   7.54605114902618e-07   1.15114296217467e-06\n",
      "    38   1.00000000007677e+10   7.54605114902618e-07   1.15114296217467e-06\n",
      "    39   1.00000000007677e+10   7.54605114902618e-07   1.15114296217467e-06\n",
      "    40   1.00000000007677e+10   7.54605114902618e-07   1.15114296217467e-06\n",
      "    41   1.00000000007677e+10   7.54605114902618e-07   1.15114296217467e-06\n",
      "    42   1.00000000007677e+10   7.54605114902618e-07   1.15114296217467e-06\n",
      "    43   1.00000000007677e+10   7.54605114902618e-07   1.15114296217467e-06\n",
      "    44   1.00000000007677e+10   7.54605114902618e-07   1.15114296217467e-06\n",
      "    45   1.00000000007677e+10   7.54605114902618e-07   1.15114296217467e-06\n",
      "    46   1.00000000007677e+10   7.54605114902618e-07   1.15114296217467e-06\n",
      "    47   1.00000000007677e+10   7.54605114902618e-07   1.15114296217467e-06\n",
      "    48   1.00000000007677e+10   7.54605114902618e-07   1.15114296217467e-06\n",
      "    49   1.00000000007677e+10   7.54605114902618e-07   1.15114296217467e-06\n"
     ]
    }
   ],
   "source": [
    "x = x0 + 0.5   # initial guess\n",
    "f = F(x)\n",
    "for i in range(M):\n",
    "    df = DF(x)\n",
    "    dx = -f/df\n",
    "    x  = x + dx\n",
    "    e  = abs(dx)\n",
    "    f  = F(x)\n",
    "    print(\"%6d %22.14e %22.14e %22.14e\" % (i,x,e,abs(f)))\n",
    "    if e < eps:\n",
    "        break"
   ]
  },
  {
   "cell_type": "markdown",
   "metadata": {},
   "source": [
    "There is no convergence. The root cannot be computed to good absolute accuracy, and consequently, we cannot make $f(x)$ sufficiently small. We could reduce it to about $10^{-6}$ which is also achieved using relative tolerance as stopping criterion."
   ]
  }
 ],
 "metadata": {
  "kernelspec": {
   "display_name": "Python 3 (ipykernel)",
   "language": "python",
   "name": "python3"
  },
  "language_info": {
   "codemirror_mode": {
    "name": "ipython",
    "version": 3
   },
   "file_extension": ".py",
   "mimetype": "text/x-python",
   "name": "python",
   "nbconvert_exporter": "python",
   "pygments_lexer": "ipython3",
   "version": "3.10.8"
  }
 },
 "nbformat": 4,
 "nbformat_minor": 4
}
